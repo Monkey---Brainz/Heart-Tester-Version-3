{
 "cells": [
  {
   "cell_type": "code",
   "execution_count": 1,
   "metadata": {},
   "outputs": [
    {
     "name": "stderr",
     "output_type": "stream",
     "text": [
      "Using TensorFlow backend.\n"
     ]
    }
   ],
   "source": [
    "##     Heart Tester Version III\n",
    "##     \n",
    "##    Authors:  B.K. Eskridge\n",
    "##              R.K. Thrasher\n",
    "##\n",
    "\n",
    "\n",
    "#Common import for data manipulation\n",
    "\n",
    "import numpy as np\n",
    "from scipy.io import wavfile\n",
    "import matplotlib.pyplot as plt\n",
    "%matplotlib inline\n",
    "import pandas as pd\n",
    "from scipy.signal import decimate\n",
    "from sklearn.model_selection import train_test_split\n",
    "from sklearn.preprocessing import OneHotEncoder\n",
    "\n",
    "\n",
    "\n",
    "#Importing keras to build neural network\n",
    "\n",
    "from keras.models import Sequential\n",
    "from keras.layers import Conv1D, MaxPool1D, GlobalAvgPool1D, Dropout, BatchNormalization, Dense\n",
    "from keras.optimizers import Adam\n",
    "from keras.callbacks import ModelCheckpoint, LearningRateScheduler, EarlyStopping\n",
    "from keras.utils import np_utils\n",
    "from keras.regularizers import l2"
   ]
  },
  {
   "cell_type": "code",
   "execution_count": 2,
   "metadata": {
    "collapsed": true
   },
   "outputs": [],
   "source": [
    "# Directory of datasets and csv file containing info about data    \n",
    "\n",
    "DAT_DIR = 'heartbeat-sounds/'\n",
    "SET_A = 'set_a.csv'"
   ]
  },
  {
   "cell_type": "code",
   "execution_count": 3,
   "metadata": {
    "collapsed": true
   },
   "outputs": [],
   "source": [
    "#Functions used to help prepare data for Machine Learning\n",
    "\n",
    "def clean_filename(fname, string):\n",
    "    \"\"\"    modifies the filename column in csv file\n",
    "           returning the filename associated with wav file\n",
    "    \"\"\"\n",
    "    file_name = fname.split('/')[1]\n",
    "    if file_name[:2] == '__':\n",
    "        file_name = string + file_name\n",
    "    return file_name\n",
    "\n",
    "\n",
    "def load_wav_file(name, path):\n",
    "    \"\"\"    loads wave file returning a numpy array\n",
    "            of the time-series data\n",
    "    \"\"\"\n",
    "    _ , b = wavfile.read(path + name)\n",
    "    return b\n",
    "\n",
    "def load_wav_file_rate(name, path):\n",
    "    \"\"\"    returns the sample rate of the\n",
    "            wav file\n",
    "    \"\"\"\n",
    "    a, b = wavfile.read(path + name)\n",
    "    return a\n",
    "\n",
    "def repeat_to_length(arr, length):\n",
    "    \"\"\"    Repeats the numpy 1D array to \n",
    "           given length, and makes datatype float\n",
    "    \"\"\"\n",
    "    result = np.empty((length, ), dtype = 'float32')\n",
    "    l = len(arr)\n",
    "    pos = 0\n",
    "    while pos + l <= length:\n",
    "        result[pos:pos+l] = arr\n",
    "        pos += l\n",
    "    if pos < length:\n",
    "        result[pos:length] = arr[:length-pos]\n",
    "    return result\n",
    "\n",
    "def prepped_df(old_df):\n",
    "    \"\"\"    Returns data frame that is prepared for \n",
    "           analysis by filling in missing values and\n",
    "           storing sound data with proper dimesnions\n",
    "    \"\"\"\n",
    "    df = old_df.copy()\n",
    "    df['fname'] = df['fname'].apply(clean_filename, string='Aunlabelledtest')\n",
    "    df['label'] = df['label'].fillna(value = 'unclassified')\n",
    "    df['time_series'] = df['fname'].apply(load_wav_file, path=DAT_DIR + '/set_a/')\n",
    "    df['len_series'] = df['time_series'].apply(len)\n",
    "    MAX_LEN = max(df['len_series'])\n",
    "    df['time_series'] = df['time_series'].apply(repeat_to_length, length=MAX_LEN)\n",
    "    return df"
   ]
  },
  {
   "cell_type": "code",
   "execution_count": null,
   "metadata": {
    "collapsed": true
   },
   "outputs": [],
   "source": [
    "# Using the helper functions above we read in the csv file\n",
    "# as a pandas dataframe and apply the transformations on the \n",
    "# data"
   ]
  },
  {
   "cell_type": "code",
   "execution_count": 159,
   "metadata": {
    "collapsed": true
   },
   "outputs": [],
   "source": [
    "df_a = pd.read_csv(DAT_DIR + SET_A)\n",
    "df = prepped_df(df_a)"
   ]
  },
  {
   "cell_type": "code",
   "execution_count": 160,
   "metadata": {},
   "outputs": [],
   "source": [
    "# For the sake of our project we remove the unlabled data\n",
    "# Using the remaining data we will train our algorithm to \n",
    "# classify the heartbeat data\n",
    "\n",
    "df = df[df['label'] != 'unclassified']"
   ]
  },
  {
   "cell_type": "code",
   "execution_count": 161,
   "metadata": {},
   "outputs": [
    {
     "data": {
      "text/plain": [
       "['artifact', 'extrahls', 'murmur', 'normal']"
      ]
     },
     "execution_count": 161,
     "metadata": {},
     "output_type": "execute_result"
    }
   ],
   "source": [
    "# Below we return the unique catagories of the labeled data\n",
    "#     normal : normal heartrate \n",
    "#     murmer : heartbeat containg murmer between S1 and S2 beats\n",
    "#     artifact : excessive noise or feedback from recording device\n",
    "#     extrahls : standing for extra heart sounds lables \n",
    "#                hearbeat containing additional S1 or S2 like beat\n",
    "#\n",
    "list(df.label.unique())"
   ]
  },
  {
   "cell_type": "code",
   "execution_count": 7,
   "metadata": {},
   "outputs": [],
   "source": [
    "#    Though extrahls type heartbeats can be a sign of a heart pathology  \n",
    "#    they often show up in healthy hearts. becase of this we relabel them\n",
    "#    as normal.\n",
    "#\n",
    "\n",
    "df['label'].replace(to_replace= 'extrahls', value= 'normal', inplace = True)"
   ]
  },
  {
   "cell_type": "code",
   "execution_count": 8,
   "metadata": {},
   "outputs": [],
   "source": [
    "#    X and y data for the ML algoritm\n",
    "\n",
    "x_data = np.stack(df['time_series'].values, axis=0)\n",
    "y_data = df['label']"
   ]
  },
  {
   "cell_type": "code",
   "execution_count": 10,
   "metadata": {},
   "outputs": [],
   "source": [
    "#    We relabel the labeled data using a one hot encoder \n",
    "#    courtesy of sklearn\n",
    "\n",
    "\n",
    "yy = y_data.copy()\n",
    "yy_enc, yy_str = yy.factorize()\n",
    "\n",
    "encoder_1H = OneHotEncoder()\n",
    "\n",
    "yy_1h = encoder_1H.fit_transform(yy_enc.reshape(-1,1))\n",
    "y_data = yy_1h.toarray()"
   ]
  },
  {
   "cell_type": "code",
   "execution_count": 14,
   "metadata": {},
   "outputs": [],
   "source": [
    "#    Splitting data into testing and training data \n",
    "#    \n",
    "\n",
    "x_train, x_test, y_train, y_test, train_filenames, test_filenames = \\\n",
    "    train_test_split(x_data, y_data, df['fname'].values, test_size=0.25)\n",
    "    "
   ]
  },
  {
   "cell_type": "code",
   "execution_count": 15,
   "metadata": {
    "collapsed": true
   },
   "outputs": [],
   "source": [
    "#    final modifications to training and validation set \n",
    "#    using decimation fuction we downsample the heartbeat data\n",
    "#    which helps in elimination some noise\n",
    "\n",
    "x_train = decimate(x_train, 8, axis=1, zero_phase=True)\n",
    "x_train = decimate(x_train, 8, axis=1, zero_phase=True)\n",
    "x_train = decimate(x_train, 4, axis=1, zero_phase=True)\n",
    "x_test = decimate(x_test, 8, axis=1, zero_phase=True)\n",
    "x_test = decimate(x_test, 8, axis=1, zero_phase=True)\n",
    "x_test = decimate(x_test, 4, axis=1, zero_phase=True)\n",
    "\n",
    "\n",
    "x_train = x_train / np.std(x_train, axis=1).reshape(-1,1)\n",
    "x_test = x_test / np.std(x_test, axis=1).reshape(-1,1)\n",
    "\n",
    "\n",
    "\n",
    "x_train = x_train[:,:,np.newaxis]\n",
    "x_test = x_test[:,:,np.newaxis]\n"
   ]
  },
  {
   "cell_type": "code",
   "execution_count": 16,
   "metadata": {
    "collapsed": true
   },
   "outputs": [],
   "source": [
    "#    Using Keras (A Nerual Network API which uses TensorFlow as its backend)\n",
    "#    we construct a model containing several convolution layers to be trained\n",
    "#    on the labeled data\n",
    "\n",
    "\n",
    "\n",
    "model = Sequential()\n",
    "model.add(Conv1D(filters=4, kernel_size=9, activation='relu',\n",
    "                input_shape = x_train.shape[1:],\n",
    "                kernel_regularizer = l2(0.025)))\n",
    "model.add(MaxPool1D(strides=4))\n",
    "model.add(BatchNormalization())\n",
    "model.add(Conv1D(filters=4, kernel_size=9, activation='relu',\n",
    "                kernel_regularizer = l2(0.05)))\n",
    "model.add(MaxPool1D(strides=4))\n",
    "model.add(BatchNormalization())\n",
    "model.add(Conv1D(filters=8, kernel_size=9, activation='relu',\n",
    "                 kernel_regularizer = l2(0.1)))\n",
    "model.add(MaxPool1D(strides=4))\n",
    "model.add(BatchNormalization())\n",
    "model.add(Conv1D(filters=16, kernel_size=9, activation='relu'))\n",
    "model.add(MaxPool1D(strides=4))\n",
    "model.add(BatchNormalization())\n",
    "model.add(Dropout(0.25))\n",
    "model.add(Conv1D(filters=64, kernel_size=4, activation='relu'))\n",
    "model.add(BatchNormalization())\n",
    "model.add(Dropout(0.5))\n",
    "model.add(Conv1D(filters=32, kernel_size=1, activation='relu'))\n",
    "model.add(BatchNormalization())\n",
    "model.add(Dropout(0.75))\n",
    "model.add(GlobalAvgPool1D())\n",
    "model.add(Dense(3, activation='softmax'))"
   ]
  },
  {
   "cell_type": "code",
   "execution_count": 17,
   "metadata": {
    "collapsed": true
   },
   "outputs": [],
   "source": [
    "#    batch_generator rotates time series data\n",
    "#    in order to prevent overfitting on the training\n",
    "#    set\n",
    "\n",
    "\n",
    "def batch_generator(x_train, y_train, batch_size):\n",
    "    \"\"\"\n",
    "    Rotates the time series randomly in time\n",
    "    \"\"\"\n",
    "    x_batch = np.empty((batch_size, x_train.shape[1], x_train.shape[2]), dtype='float32')\n",
    "    y_batch = np.empty((batch_size, y_train.shape[1]), dtype='float32')\n",
    "    full_idx = range(x_train.shape[0])\n",
    "\n",
    "    while True:\n",
    "        batch_idx = np.random.choice(full_idx, batch_size)\n",
    "        x_batch = x_train[batch_idx]\n",
    "        y_batch = y_train[batch_idx]\n",
    "\n",
    "        for i in range(batch_size):\n",
    "            sz = np.random.randint(x_batch.shape[1])\n",
    "            x_batch[i] = np.roll(x_batch[i], sz, axis = 0)\n",
    "\n",
    "        yield x_batch, y_batch\n"
   ]
  },
  {
   "cell_type": "code",
   "execution_count": 18,
   "metadata": {
    "collapsed": true
   },
   "outputs": [],
   "source": [
    "#    weight_saver allows for the saving of the train model\n",
    "\n",
    "weight_saver = ModelCheckpoint('set_a_weights.h5', monitor='val_loss',\n",
    "                               save_best_only=True, save_weights_only=True)"
   ]
  },
  {
   "cell_type": "code",
   "execution_count": 19,
   "metadata": {
    "collapsed": true
   },
   "outputs": [],
   "source": [
    "#    specifies performance measures to analyze model performance bewteen epochs\n",
    "\n",
    "\n",
    "model.compile(optimizer=Adam(1e-4), loss='categorical_crossentropy', metrics=['accuracy'])"
   ]
  },
  {
   "cell_type": "code",
   "execution_count": 20,
   "metadata": {
    "collapsed": true
   },
   "outputs": [],
   "source": [
    "annealer = LearningRateScheduler(lambda x: 1e-3 * 0.8**x)"
   ]
  },
  {
   "cell_type": "code",
   "execution_count": 21,
   "metadata": {},
   "outputs": [
    {
     "name": "stdout",
     "output_type": "stream",
     "text": [
      "Epoch 1/30\n",
      " - 22s - loss: 2.0402 - acc: 0.4495 - val_loss: 1.4233 - val_acc: 0.5806\n",
      "Epoch 2/30\n",
      " - 20s - loss: 1.2552 - acc: 0.6405 - val_loss: 1.0273 - val_acc: 0.7419\n",
      "Epoch 3/30\n",
      " - 20s - loss: 0.9545 - acc: 0.7135 - val_loss: 0.8334 - val_acc: 0.7742\n",
      "Epoch 4/30\n",
      " - 20s - loss: 0.7853 - acc: 0.7570 - val_loss: 0.8300 - val_acc: 0.6774\n",
      "Epoch 5/30\n",
      " - 20s - loss: 0.6845 - acc: 0.7900 - val_loss: 0.7509 - val_acc: 0.7742\n",
      "Epoch 6/30\n",
      " - 20s - loss: 0.6273 - acc: 0.8006 - val_loss: 0.6596 - val_acc: 0.8065\n",
      "Epoch 7/30\n",
      " - 20s - loss: 0.5642 - acc: 0.8266 - val_loss: 0.6370 - val_acc: 0.8065\n",
      "Epoch 8/30\n",
      " - 20s - loss: 0.5386 - acc: 0.8318 - val_loss: 0.6340 - val_acc: 0.7742\n",
      "Epoch 9/30\n",
      " - 21s - loss: 0.4882 - acc: 0.8538 - val_loss: 0.6371 - val_acc: 0.7742\n",
      "Epoch 10/30\n",
      " - 20s - loss: 0.4653 - acc: 0.8620 - val_loss: 0.6780 - val_acc: 0.7742\n",
      "Epoch 11/30\n",
      " - 20s - loss: 0.4700 - acc: 0.8638 - val_loss: 0.6749 - val_acc: 0.8065\n",
      "Epoch 12/30\n",
      " - 20s - loss: 0.4590 - acc: 0.8663 - val_loss: 0.6221 - val_acc: 0.8387\n",
      "Epoch 13/30\n",
      " - 20s - loss: 0.4442 - acc: 0.8672 - val_loss: 0.6197 - val_acc: 0.8387\n",
      "Epoch 14/30\n",
      " - 21s - loss: 0.4338 - acc: 0.8699 - val_loss: 0.6346 - val_acc: 0.8387\n",
      "Epoch 15/30\n",
      " - 21s - loss: 0.4404 - acc: 0.8700 - val_loss: 0.6169 - val_acc: 0.8065\n",
      "Epoch 16/30\n",
      " - 22s - loss: 0.4271 - acc: 0.8740 - val_loss: 0.6223 - val_acc: 0.8387\n",
      "Epoch 17/30\n",
      " - 25s - loss: 0.4248 - acc: 0.8714 - val_loss: 0.6183 - val_acc: 0.8387\n",
      "Epoch 18/30\n",
      " - 26s - loss: 0.4286 - acc: 0.8728 - val_loss: 0.6211 - val_acc: 0.8387\n",
      "Epoch 19/30\n",
      " - 24s - loss: 0.4244 - acc: 0.8789 - val_loss: 0.6202 - val_acc: 0.8387\n",
      "Epoch 20/30\n",
      " - 23s - loss: 0.4470 - acc: 0.8735 - val_loss: 0.6140 - val_acc: 0.8065\n",
      "Epoch 21/30\n",
      " - 23s - loss: 0.4281 - acc: 0.8771 - val_loss: 0.6097 - val_acc: 0.8387\n",
      "Epoch 22/30\n",
      " - 19s - loss: 0.4567 - acc: 0.8694 - val_loss: 0.6247 - val_acc: 0.8387\n",
      "Epoch 23/30\n",
      " - 20s - loss: 0.4511 - acc: 0.8675 - val_loss: 0.6266 - val_acc: 0.8387\n",
      "Epoch 24/30\n",
      " - 21s - loss: 0.4188 - acc: 0.8766 - val_loss: 0.6057 - val_acc: 0.8387\n",
      "Epoch 25/30\n",
      " - 19s - loss: 0.4225 - acc: 0.8747 - val_loss: 0.6032 - val_acc: 0.8387\n",
      "Epoch 26/30\n",
      " - 18s - loss: 0.4203 - acc: 0.8805 - val_loss: 0.6149 - val_acc: 0.8387\n",
      "Epoch 27/30\n",
      " - 18s - loss: 0.4065 - acc: 0.8804 - val_loss: 0.6107 - val_acc: 0.8387\n",
      "Epoch 28/30\n",
      " - 18s - loss: 0.4263 - acc: 0.8781 - val_loss: 0.6182 - val_acc: 0.8387\n",
      "Epoch 29/30\n",
      " - 18s - loss: 0.4149 - acc: 0.8762 - val_loss: 0.6190 - val_acc: 0.8387\n",
      "Epoch 30/30\n",
      " - 19s - loss: 0.4295 - acc: 0.8762 - val_loss: 0.6215 - val_acc: 0.8387\n"
     ]
    }
   ],
   "source": [
    "#    Model fit is applied the neural net\n",
    "\n",
    "\n",
    "hist = model.fit_generator(batch_generator(x_train, y_train, 8),\n",
    "                   epochs=30, steps_per_epoch=1000,\n",
    "                   validation_data=(x_test, y_test),\n",
    "                   callbacks=[weight_saver, annealer],\n",
    "                   verbose=2)"
   ]
  },
  {
   "cell_type": "code",
   "execution_count": 22,
   "metadata": {
    "collapsed": true
   },
   "outputs": [],
   "source": [
    "model.load_weights('set_a_weights.h5')"
   ]
  },
  {
   "cell_type": "code",
   "execution_count": 158,
   "metadata": {},
   "outputs": [
    {
     "data": {
      "image/png": "[encoded data removed]",
      "text/plain": [
       "<matplotlib.figure.Figure at 0x1c220add68>"
      ]
     },
     "metadata": {},
     "output_type": "display_data"
    }
   ],
   "source": [
    "\n",
    "plt.subplot(2, 1, 1)\n",
    "plt.plot(hist.history['loss'], color='b')\n",
    "plt.plot(hist.history['val_loss'], color='r')\n",
    "plt.title('Basic Perfomance Measures \\n red = validation, blue = training')\n",
    "plt.ylabel('Loss')\n",
    "\n",
    "plt.subplot(2, 1, 2)\n",
    "plt.plot(hist.history['acc'], color='b')\n",
    "plt.plot(hist.history['val_acc'], color='r')\n",
    "plt.xlabel('Epoch')\n",
    "plt.ylabel('Accuracy')\n",
    "\n",
    "plt.show()"
   ]
  },
  {
   "cell_type": "code",
   "execution_count": null,
   "metadata": {
    "collapsed": true
   },
   "outputs": [],
   "source": [
    "#              ACKNOWLEDGEMENTS \n",
    "#\n",
    "#   A liberal use of publically availabe code was used provided\n",
    "#   by Peter Grenholm\n",
    "#\n",
    "#   The heartbeat data was orginally provided to Kaggle through\n",
    "#      @misc{pascal-chsc-2011,\n",
    "#       author = \"Bentley, P. and Nordehn, G. and Coimbra, M. and Mannor, S.\",\n",
    "#       title = \"The {PASCAL} {C}lassifying {H}eart {S}ounds {C}hallenge 2011 {(CHSC2011)} {R}esults\",\n",
    "#       howpublished = \"http://www.peterjbentley.com/heartchallenge/index.html\"} \n",
    "#\n",
    "#"
   ]
  }
 ],
 "metadata": {
  "kernelspec": {
   "display_name": "Python 3",
   "language": "python",
   "name": "python3"
  },
  "language_info": {
   "codemirror_mode": {
    "name": "ipython",
    "version": 3
   },
   "file_extension": ".py",
   "mimetype": "text/x-python",
   "name": "python",
   "nbconvert_exporter": "python",
   "pygments_lexer": "ipython3",
   "version": "3.6.3"
  }
 },
 "nbformat": 4,
 "nbformat_minor": 2
}
