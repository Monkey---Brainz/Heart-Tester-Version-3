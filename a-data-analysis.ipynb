{
 "cells": [
  {
   "cell_type": "code",
   "execution_count": 1,
   "metadata": {},
   "outputs": [
    {
     "name": "stderr",
     "output_type": "stream",
     "text": [
      "Using TensorFlow backend.\n"
     ]
    }
   ],
   "source": [
    "#Common import for data manipulation\n",
    "import numpy as np\n",
    "from scipy.io import wavfile\n",
    "import matplotlib.pyplot as plt\n",
    "%matplotlib inline\n",
    "import pandas as pd\n",
    "from scipy.signal import decimate\n",
    "from sklearn.model_selection import train_test_split\n",
    "from sklearn.preprocessing import OneHotEncoder\n",
    "\n",
    "#Importing keras to build neural network\n",
    "from keras.models import Sequential\n",
    "from keras.layers import Conv1D, MaxPool1D, GlobalAvgPool1D, Dropout, BatchNormalization, Dense\n",
    "from keras.optimizers import Adam\n",
    "from keras.callbacks import ModelCheckpoint, LearningRateScheduler, EarlyStopping\n",
    "from keras.utils import np_utils\n",
    "from keras.regularizers import l2"
   ]
  },
  {
   "cell_type": "code",
   "execution_count": 2,
   "metadata": {
    "collapsed": true
   },
   "outputs": [],
   "source": [
    "# Directory of datasets\n",
    "DAT_DIR = 'heartbeat-sounds/'\n",
    "SET_A = 'set_a.csv'\n",
    "SET_B = 'set_b.csv'"
   ]
  },
  {
   "cell_type": "code",
   "execution_count": 3,
   "metadata": {
    "collapsed": true
   },
   "outputs": [],
   "source": [
    "#Functions used to help prepare data for Machine Learning\n",
    "\n",
    "def clean_filename(fname, string):\n",
    "    file_name = fname.split('/')[1]\n",
    "    if file_name[:2] == '__':\n",
    "        file_name = string + file_name\n",
    "    return file_name\n",
    "\n",
    "def clean_filename_b(fname):\n",
    "    filename = fname.replace('Btraining_','')\n",
    "    filename = filename.split('/')[1]\n",
    "    if filename.find('noisy') != -1:\n",
    "        return filename\n",
    "    else:\n",
    "        _ = filename.find('_')\n",
    "        filename = filename[0:_] + '__' + filename[_+1:]\n",
    "        return filename\n",
    "\n",
    "def load_wav_file(name, path):\n",
    "    _ , b = wavfile.read(path + name)\n",
    "    #assert _ == SAMPLE_RATE\n",
    "    return b\n",
    "\n",
    "def load_wav_file_rate(name, path):\n",
    "    a, b = wavfile.read(path + name)\n",
    "    #assert _ == SAMPLE_RATE\n",
    "    return a\n",
    "\n",
    "def repeat_to_length(arr, length):\n",
    "    \"\"\"Repeats the numpy 1D array to given length, and makes datatype float\"\"\"\n",
    "    result = np.empty((length, ), dtype = 'float32')\n",
    "    l = len(arr)\n",
    "    pos = 0\n",
    "    while pos + l <= length:\n",
    "        result[pos:pos+l] = arr\n",
    "        pos += l\n",
    "    if pos < length:\n",
    "        result[pos:length] = arr[:length-pos]\n",
    "    return result\n",
    "\n",
    "def prepped_df(old_df):\n",
    "    df = old_df.copy()\n",
    "\n",
    "    df['fname'] = df['fname'].apply(clean_filename, string='Aunlabelledtest')\n",
    "    df['label'] = df['label'].fillna(value = 'unclassified')\n",
    "    df['time_series'] = df['fname'].apply(load_wav_file, path=DAT_DIR + '/set_a/')\n",
    "    df['len_series'] = df['time_series'].apply(len)\n",
    "    MAX_LEN = max(df['len_series'])\n",
    "    df['time_series'] = df['time_series'].apply(repeat_to_length, length=MAX_LEN)\n",
    "    return df"
   ]
  },
  {
   "cell_type": "code",
   "execution_count": 4,
   "metadata": {
    "collapsed": true
   },
   "outputs": [],
   "source": [
    "df_a = pd.read_csv(DAT_DIR + SET_A)\n",
    "df_b = pd.read_csv(DAT_DIR + SET_B)\n",
    "\n",
    "df = prepped_df(df_a)"
   ]
  },
  {
   "cell_type": "code",
   "execution_count": 5,
   "metadata": {},
   "outputs": [],
   "source": [
    "#df = df[df['label'] != 'unclassified']"
   ]
  },
  {
   "cell_type": "code",
   "execution_count": 6,
   "metadata": {},
   "outputs": [],
   "source": [
    "x_data = np.stack(df['time_series'].values, axis=0)\n",
    "y_data = df['label']"
   ]
  },
  {
   "cell_type": "code",
   "execution_count": 7,
   "metadata": {},
   "outputs": [],
   "source": [
    "#yy = y_data.copy()"
   ]
  },
  {
   "cell_type": "code",
   "execution_count": 8,
   "metadata": {},
   "outputs": [],
   "source": [
    "#yy_enc, yy_str = yy.factorize()\n",
    "#\n",
    "#encoder_1H = OneHotEncoder()\n",
    "#\n",
    "#yy_1h = encoder_1H.fit_transform(yy_enc.reshape(-1,1))"
   ]
  },
  {
   "cell_type": "code",
   "execution_count": 9,
   "metadata": {},
   "outputs": [],
   "source": [
    "#y_data = yy_1h.toarray()"
   ]
  },
  {
   "cell_type": "code",
   "execution_count": 10,
   "metadata": {
    "collapsed": true
   },
   "outputs": [],
   "source": [
    "new_labels =[0, 0, 0, 0, 0, 0, 0, 0, 0, 0, 0, 0, 0, 0, 0, 0, 0, 0, 0, 0, 0, 0,\n",
    "             0, 0, 0, 0, 0, 0, 0, 0, 0, 0, 0, 0, 0, 0, 0, 0, 0, 0, 2, 1, 1, 1,\n",
    "             1, 1, 1, 1, 1, 1, 1, 1, 1, 1, 1, 2, 1, 1, 1, 2, 2, 2, 1, 1, 2, 1,\n",
    "             2, 2, 1, 2, 2, 2, 2, 2, 2, 2, 2, 2, 2, 2, 2, 2, 2, 2, 2, 2, 2, 2,\n",
    "             2, 2, 2, 2, 2, 1, 1, 1, 1, 1, 1, 1, 1, 2, 1, 1, 1, 1, 1, 2, 1, 1,\n",
    "             1, 1, 1, 1, 1, 2, 2, 1, 1, 1, 1, 1, 2, 1, 0, 2, 2, 1, 1, 1, 1, 1,\n",
    "             0, 1, 0, 1, 1, 1, 2, 1, 0, 1, 1, 1, 1, 1, 2, 0, 0, 0, 0, 0, 0, 0,\n",
    "             1, 0, 0, 0, 0, 0, 0, 1, 0, 2, 1, 2, 2, 2, 2, 2, 2, 2, 2, 2, 2, 2]\n",
    "new_labels = np.array(new_labels, dtype='int')\n",
    "\n",
    "y_data = np_utils.to_categorical(new_labels)"
   ]
  },
  {
   "cell_type": "code",
   "execution_count": 11,
   "metadata": {},
   "outputs": [],
   "source": [
    "x_train, x_test, y_train, y_test, train_filenames, test_filenames = \\\n",
    "    train_test_split(x_data, y_data, df['fname'].values, test_size=0.25, random_state = 42)\n",
    "    "
   ]
  },
  {
   "cell_type": "code",
   "execution_count": 12,
   "metadata": {
    "collapsed": true
   },
   "outputs": [],
   "source": [
    "x_train = decimate(x_train, 8, axis=1, zero_phase=True)\n",
    "x_train = decimate(x_train, 8, axis=1, zero_phase=True)\n",
    "x_train = decimate(x_train, 4, axis=1, zero_phase=True)\n",
    "x_test = decimate(x_test, 8, axis=1, zero_phase=True)\n",
    "x_test = decimate(x_test, 8, axis=1, zero_phase=True)\n",
    "x_test = decimate(x_test, 4, axis=1, zero_phase=True)\n",
    "\n",
    "\n",
    "x_train = x_train / np.std(x_train, axis=1).reshape(-1,1)\n",
    "x_test = x_test / np.std(x_test, axis=1).reshape(-1,1)\n",
    "\n",
    "\n",
    "\n",
    "x_train = x_train[:,:,np.newaxis]\n",
    "x_test = x_test[:,:,np.newaxis]\n"
   ]
  },
  {
   "cell_type": "code",
   "execution_count": 20,
   "metadata": {
    "collapsed": true
   },
   "outputs": [],
   "source": [
    "model = Sequential()\n",
    "model.add(Conv1D(filters=4, kernel_size=9, activation='relu',\n",
    "                input_shape = x_train.shape[1:],\n",
    "                kernel_regularizer = l2(0.025)))\n",
    "model.add(MaxPool1D(strides=4))\n",
    "model.add(BatchNormalization())\n",
    "model.add(Conv1D(filters=4, kernel_size=9, activation='relu',\n",
    "                kernel_regularizer = l2(0.05)))\n",
    "model.add(MaxPool1D(strides=4))\n",
    "model.add(BatchNormalization())\n",
    "model.add(Conv1D(filters=8, kernel_size=9, activation='relu',\n",
    "                 kernel_regularizer = l2(0.1)))\n",
    "model.add(MaxPool1D(strides=4))\n",
    "model.add(BatchNormalization())\n",
    "model.add(Conv1D(filters=16, kernel_size=9, activation='relu'))\n",
    "model.add(MaxPool1D(strides=4))\n",
    "model.add(BatchNormalization())\n",
    "model.add(Dropout(0.25))\n",
    "model.add(Conv1D(filters=64, kernel_size=4, activation='relu'))\n",
    "model.add(BatchNormalization())\n",
    "model.add(Dropout(0.5))\n",
    "model.add(Conv1D(filters=32, kernel_size=1, activation='relu'))\n",
    "model.add(BatchNormalization())\n",
    "model.add(Dropout(0.75))\n",
    "model.add(GlobalAvgPool1D())\n",
    "model.add(Dense(3, activation='softmax'))"
   ]
  },
  {
   "cell_type": "code",
   "execution_count": 21,
   "metadata": {
    "collapsed": true
   },
   "outputs": [],
   "source": [
    "def batch_generator(x_train, y_train, batch_size):\n",
    "    \"\"\"\n",
    "    Rotates the time series randomly in time\n",
    "    \"\"\"\n",
    "    x_batch = np.empty((batch_size, x_train.shape[1], x_train.shape[2]), dtype='float32')\n",
    "    y_batch = np.empty((batch_size, y_train.shape[1]), dtype='float32')\n",
    "    full_idx = range(x_train.shape[0])\n",
    "\n",
    "    while True:\n",
    "        batch_idx = np.random.choice(full_idx, batch_size)\n",
    "        x_batch = x_train[batch_idx]\n",
    "        y_batch = y_train[batch_idx]\n",
    "\n",
    "        for i in range(batch_size):\n",
    "            sz = np.random.randint(x_batch.shape[1])\n",
    "            x_batch[i] = np.roll(x_batch[i], sz, axis = 0)\n",
    "\n",
    "        yield x_batch, y_batch\n"
   ]
  },
  {
   "cell_type": "code",
   "execution_count": 22,
   "metadata": {
    "collapsed": true
   },
   "outputs": [],
   "source": [
    "weight_saver = ModelCheckpoint('set_a_weights.h5', monitor='val_loss',\n",
    "                               save_best_only=True, save_weights_only=True)"
   ]
  },
  {
   "cell_type": "code",
   "execution_count": 23,
   "metadata": {
    "collapsed": true
   },
   "outputs": [],
   "source": [
    "model.compile(optimizer=Adam(1e-4), loss='categorical_crossentropy', metrics=['accuracy'])"
   ]
  },
  {
   "cell_type": "code",
   "execution_count": 24,
   "metadata": {
    "collapsed": true
   },
   "outputs": [],
   "source": [
    "annealer = LearningRateScheduler(lambda x: 1e-3 * 0.8**x)"
   ]
  },
  {
   "cell_type": "code",
   "execution_count": 25,
   "metadata": {},
   "outputs": [
    {
     "name": "stdout",
     "output_type": "stream",
     "text": [
      "Epoch 1/30\n",
      " - 16s - loss: 1.9238 - acc: 0.4969 - val_loss: 1.2358 - val_acc: 0.7273\n",
      "Epoch 2/30\n",
      " - 14s - loss: 1.2090 - acc: 0.6594 - val_loss: 0.8770 - val_acc: 0.8409\n",
      "Epoch 3/30\n",
      " - 15s - loss: 0.9410 - acc: 0.7166 - val_loss: 0.7143 - val_acc: 0.8182\n",
      "Epoch 4/30\n",
      " - 16s - loss: 0.8201 - acc: 0.7332 - val_loss: 0.5856 - val_acc: 0.8409\n",
      "Epoch 5/30\n",
      " - 14s - loss: 0.7383 - acc: 0.7591 - val_loss: 0.5230 - val_acc: 0.8409\n",
      "Epoch 6/30\n",
      " - 15s - loss: 0.6714 - acc: 0.7826 - val_loss: 0.4967 - val_acc: 0.8636\n",
      "Epoch 7/30\n",
      " - 15s - loss: 0.6199 - acc: 0.7944 - val_loss: 0.4525 - val_acc: 0.8182\n",
      "Epoch 8/30\n",
      " - 15s - loss: 0.5993 - acc: 0.7974 - val_loss: 0.4584 - val_acc: 0.7955\n",
      "Epoch 9/30\n",
      " - 15s - loss: 0.5866 - acc: 0.8036 - val_loss: 0.4506 - val_acc: 0.7955\n",
      "Epoch 10/30\n",
      " - 15s - loss: 0.5639 - acc: 0.8155 - val_loss: 0.4128 - val_acc: 0.7955\n",
      "Epoch 11/30\n",
      " - 15s - loss: 0.5573 - acc: 0.8151 - val_loss: 0.4063 - val_acc: 0.8182\n",
      "Epoch 12/30\n",
      " - 15s - loss: 0.5531 - acc: 0.8215 - val_loss: 0.3890 - val_acc: 0.8636\n",
      "Epoch 13/30\n",
      " - 15s - loss: 0.5527 - acc: 0.8201 - val_loss: 0.3575 - val_acc: 0.9091\n",
      "Epoch 14/30\n",
      " - 14s - loss: 0.5316 - acc: 0.8237 - val_loss: 0.3694 - val_acc: 0.8864\n",
      "Epoch 15/30\n",
      " - 14s - loss: 0.5359 - acc: 0.8295 - val_loss: 0.3448 - val_acc: 0.9091\n",
      "Epoch 16/30\n",
      " - 15s - loss: 0.5239 - acc: 0.8290 - val_loss: 0.3540 - val_acc: 0.8864\n",
      "Epoch 17/30\n",
      " - 15s - loss: 0.5359 - acc: 0.8259 - val_loss: 0.3547 - val_acc: 0.8636\n",
      "Epoch 18/30\n",
      " - 15s - loss: 0.5080 - acc: 0.8326 - val_loss: 0.3520 - val_acc: 0.9091\n",
      "Epoch 19/30\n",
      " - 15s - loss: 0.5262 - acc: 0.8267 - val_loss: 0.3612 - val_acc: 0.9091\n",
      "Epoch 20/30\n",
      " - 15s - loss: 0.5402 - acc: 0.8180 - val_loss: 0.3513 - val_acc: 0.9091\n",
      "Epoch 21/30\n",
      " - 15s - loss: 0.5351 - acc: 0.8256 - val_loss: 0.3505 - val_acc: 0.9091\n",
      "Epoch 22/30\n",
      " - 15s - loss: 0.5254 - acc: 0.8287 - val_loss: 0.3517 - val_acc: 0.9091\n",
      "Epoch 23/30\n",
      " - 15s - loss: 0.5139 - acc: 0.8291 - val_loss: 0.3504 - val_acc: 0.9091\n",
      "Epoch 24/30\n",
      " - 15s - loss: 0.5277 - acc: 0.8262 - val_loss: 0.3484 - val_acc: 0.8636\n",
      "Epoch 25/30\n",
      " - 15s - loss: 0.5193 - acc: 0.8304 - val_loss: 0.3428 - val_acc: 0.8636\n",
      "Epoch 26/30\n",
      " - 14s - loss: 0.5296 - acc: 0.8274 - val_loss: 0.3522 - val_acc: 0.8636\n",
      "Epoch 27/30\n",
      " - 15s - loss: 0.5144 - acc: 0.8271 - val_loss: 0.3468 - val_acc: 0.8636\n",
      "Epoch 28/30\n",
      " - 14s - loss: 0.5260 - acc: 0.8304 - val_loss: 0.3481 - val_acc: 0.8409\n",
      "Epoch 29/30\n",
      " - 16s - loss: 0.5122 - acc: 0.8319 - val_loss: 0.3513 - val_acc: 0.8409\n",
      "Epoch 30/30\n",
      " - 15s - loss: 0.5053 - acc: 0.8337 - val_loss: 0.3513 - val_acc: 0.8636\n"
     ]
    }
   ],
   "source": [
    "hist = model.fit_generator(batch_generator(x_train, y_train, 8),\n",
    "                   epochs=30, steps_per_epoch=1000,\n",
    "                   validation_data=(x_test, y_test),\n",
    "                   callbacks=[weight_saver, annealer],\n",
    "                   verbose=2)"
   ]
  },
  {
   "cell_type": "code",
   "execution_count": 26,
   "metadata": {
    "collapsed": true
   },
   "outputs": [],
   "source": [
    "model.load_weights('set_a_weights.h5')"
   ]
  },
  {
   "cell_type": "code",
   "execution_count": 27,
   "metadata": {},
   "outputs": [
    {
     "data": {
      "image/png": "[encoded data removed]",
      "text/plain": [
       "<matplotlib.figure.Figure at 0x1c58495f98>"
      ]
     },
     "metadata": {},
     "output_type": "display_data"
    },
    {
     "data": {
      "image/png": "[encoded data removed]",
      "text/plain": [
       "<matplotlib.figure.Figure at 0x1c41aeea20>"
      ]
     },
     "metadata": {},
     "output_type": "display_data"
    }
   ],
   "source": [
    "plt.plot(hist.history['loss'], color='b')\n",
    "plt.plot(hist.history['val_loss'], color='r')\n",
    "plt.show()\n",
    "plt.plot(hist.history['acc'], color='b')\n",
    "plt.plot(hist.history['val_acc'], color='r')\n",
    "plt.show()"
   ]
  },
  {
   "cell_type": "code",
   "execution_count": null,
   "metadata": {
    "collapsed": true
   },
   "outputs": [],
   "source": []
  }
 ],
 "metadata": {
  "kernelspec": {
   "display_name": "Python 3",
   "language": "python",
   "name": "python3"
  },
  "language_info": {
   "codemirror_mode": {
    "name": "ipython",
    "version": 3
   },
   "file_extension": ".py",
   "mimetype": "text/x-python",
   "name": "python",
   "nbconvert_exporter": "python",
   "pygments_lexer": "ipython3",
   "version": "3.6.3"
  }
 },
 "nbformat": 4,
 "nbformat_minor": 2
}
